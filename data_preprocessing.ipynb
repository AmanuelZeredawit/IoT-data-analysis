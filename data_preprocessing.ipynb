{
 "cells": [
  {
   "attachments": {},
   "cell_type": "markdown",
   "metadata": {},
   "source": [
    "## Line plots\n",
    "Plotting the series is an important step in the analysis process since it gives you an overview of how the data actually looks and allows us to identify trends and patterns easily.\n",
    "\n",
    "You'll be plotting some line graphs using pandas .plot() method now.\n",
    "\n",
    "pandas as pd and matplotlib.pyplot as plt have been imported for you."
   ]
  },
  {
   "cell_type": "code",
   "execution_count": null,
   "metadata": {},
   "outputs": [],
   "source": [
    "cols = [\"temperature\", \"humidity\", \"pressure\"]\n",
    "\n",
    "# Create a line plot\n",
    "df[cols].plot(title ='Environmental data')\n",
    "\n",
    "# Label X-Axis\n",
    "plt.xlabel(\"Time\")\n",
    "\n",
    "# Show plot\n",
    "plt.show()"
   ]
  },
  {
   "cell_type": "code",
   "execution_count": null,
   "metadata": {},
   "outputs": [],
   "source": [
    "cols = [\"temperature\", \"humidity\", \"pressure\"]\n",
    "\n",
    "# Create a line plot\n",
    "df[cols].plot(title=\"Environmental data\",\n",
    "              secondary_y= 'pressure')\n",
    "\n",
    "# Label X-Axis\n",
    "plt.xlabel(\"Time\")\n",
    "\n",
    "# Show plot\n",
    "plt.show()"
   ]
  },
  {
   "attachments": {},
   "cell_type": "markdown",
   "metadata": {},
   "source": [
    "## Histogram Plot\n",
    "While it's important to know how the data looks, data distribution is equally important.\n",
    "\n",
    "You can do this for the environmental dataset by plotting histograms.\n",
    "\n",
    "pandas has been imported as pd, and matplotlib.pyplot as plt."
   ]
  },
  {
   "cell_type": "code",
   "execution_count": null,
   "metadata": {},
   "outputs": [],
   "source": [
    "cols = [\"temperature\", \"humidity\", \"pressure\", \"radiation\"]\n",
    "\n",
    "# Create a histogram\n",
    "df[cols].hist(bins =20)\n",
    "\n",
    "# Label Y-Axis\n",
    "plt.ylabel('Frequency')\n",
    "\n",
    "# Show plot\n",
    "plt.show()"
   ]
  },
  {
   "attachments": {},
   "cell_type": "markdown",
   "metadata": {},
   "source": [
    "## Missing data\n",
    "Let's now explore different methods to handle missing data.\n",
    "\n",
    "It's important to know different methods to deal with missing data, since you are not always allowed to drop observations from the dataset.\n",
    "\n",
    "The dataset data and pandas as pd are available in your session."
   ]
  },
  {
   "cell_type": "code",
   "execution_count": null,
   "metadata": {},
   "outputs": [],
   "source": [
    "# Print head of the DataFrame\n",
    "print(data.head())\n",
    "\n",
    "# Forward-fill missing values\n",
    "data_clean = data.fillna(method=\"ffill\")\n",
    "print(data_clean.head())"
   ]
  },
  {
   "cell_type": "code",
   "execution_count": null,
   "metadata": {},
   "outputs": [],
   "source": []
  }
 ],
 "metadata": {
  "kernelspec": {
   "display_name": "real_estate_prediction",
   "language": "python",
   "name": "python3"
  },
  "language_info": {
   "name": "python",
   "version": "3.8.13"
  },
  "orig_nbformat": 4,
  "vscode": {
   "interpreter": {
    "hash": "9228d34919f745069d3ef84d5d121bbcb666b039c72f040aacee9f3bccaf6b85"
   }
  }
 },
 "nbformat": 4,
 "nbformat_minor": 2
}
