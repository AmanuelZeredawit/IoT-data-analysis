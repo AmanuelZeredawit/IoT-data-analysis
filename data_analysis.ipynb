{
 "cells": [
  {
   "attachments": {},
   "cell_type": "markdown",
   "metadata": {},
   "source": [
    "## Concatenate DataFrames\n",
    "Let's assume you have gathered multiple datasets about your environment for the same time period, and would like to analyze them.\n",
    "\n",
    "The first step is to combine the datasets into one, to comfortably work with them.\n",
    "\n",
    "You'll work on combining the three DataFrames temperature, humidity, and windspeed."
   ]
  },
  {
   "cell_type": "code",
   "execution_count": null,
   "metadata": {},
   "outputs": [],
   "source": [
    "# Rename the columns\n",
    "temperature.columns = ['temperature']\n",
    "humidity.columns = ['humidity']\n",
    "windspeed.columns = ['windspeed']\n",
    "# Create list of DataFrames\n",
    "df_list = [temperature,humidity,windspeed]\n",
    "#print(temperature.head())\n",
    "\n",
    "# Concatenate files\n",
    "environment = pd.concat(df_list, axis=1)\n",
    "\n",
    "# Print first rows of the DataFrame\n",
    "print(environment.head())"
   ]
  },
  {
   "attachments": {},
   "cell_type": "markdown",
   "metadata": {},
   "source": [
    "## Combine and resample\n",
    "You'll now combine environmental data with a traffic dataset. The traffic consists of 2 columns, light_veh and heavy_veh.\n",
    "\n",
    "heavy_veh represents the number of heavy vehicles like lorries or busses per hour on a road of a small city.\n",
    "light_veh contains the number of light vehicles, like automobiles or motorbikes per hour on that road.\n",
    "The environmental dataset consists of\n",
    "\n",
    "temperature in degree Celsius.\n",
    "humidity in percent.\n",
    "sunshine duration in seconds.\n",
    "Since the traffic-dataset is in 1 hour buckets, but the environmental data is in 10 minute buckets, you'll need a way to resolve this.\n",
    "\n",
    "The data is available as environ and traffic."
   ]
  },
  {
   "cell_type": "code",
   "execution_count": null,
   "metadata": {},
   "outputs": [],
   "source": [
    "# Combine the DataFrames\n",
    "environ_traffic = pd.concat([environ, traffic], axis=1)\n",
    "\n",
    "# Print first 5 rows\n",
    "print(environ_traffic.head())"
   ]
  },
  {
   "cell_type": "code",
   "execution_count": null,
   "metadata": {},
   "outputs": [],
   "source": [
    "# Combine the DataFrames\n",
    "environ_traffic = pd.concat([environ, traffic], axis=1)\n",
    "\n",
    "# Print first 5 rows\n",
    "print(environ_traffic.head())\n",
    "\n",
    "# Create agg logic\n",
    "agg_dict = {\"temperature\": \"max\", \"humidity\": \"max\", \"sunshine\": \"sum\", \n",
    "            \"light_veh\": \"sum\", \"heavy_veh\": \"sum\",\n",
    "            }\n",
    "\n",
    "# Resample the DataFrame \n",
    "environ_traffic_resampled = environ_traffic.resample('1h').agg(agg_dict)\n",
    "print(environ_traffic_resampled.head())"
   ]
  },
  {
   "attachments": {},
   "cell_type": "markdown",
   "metadata": {},
   "source": [
    "## Heatmaps\n",
    "You're going to keep working with the environmental dataset from the previous lessons. However, it now contains 3 additional columns about a river's water-status in the same geographic area.\n",
    "\n",
    "The additional columns are:\n",
    "\n",
    "flow-rate in m3/s\n",
    "water-level in cm\n",
    "water-temperature in °C\n",
    "You'll now try to find correlations between the columns.\n",
    "\n",
    "pandas as pd, seaborn as sns and matplotlib.pyplot as plt have been imported for you."
   ]
  },
  {
   "cell_type": "code",
   "execution_count": null,
   "metadata": {},
   "outputs": [],
   "source": [
    "# Calculate correlation\n",
    "corr = data.corr()\n",
    "\n",
    "# Print correlation\n",
    "print(corr)\n",
    "\n",
    "# Create a heatmap\n",
    "sns.heatmap(corr, annot=True)\n",
    "\n",
    "# Show plot\n",
    "plt.show()"
   ]
  },
  {
   "attachments": {},
   "cell_type": "markdown",
   "metadata": {},
   "source": [
    "## Pairplot\n",
    "You'll now further investigate the data using a pairplot.\n",
    "\n",
    "A pairplot can be a useful tool since it combines histograms with scatter-plots showing the distribution between 2 columns.\n",
    "\n",
    "You'll work with the water-status data we've seen before.\n",
    "\n",
    "pandas as pd and matplotlib.pyplot as plt have been imported for you, and the data is available as data."
   ]
  },
  {
   "cell_type": "code",
   "execution_count": null,
   "metadata": {},
   "outputs": [],
   "source": [
    "# Import required modules\n",
    "import seaborn as sns\n",
    "\n",
    "# Create a pairplot\n",
    "sns.pairplot(data)\n",
    "\n",
    "# Show plot\n",
    "plt.show()"
   ]
  },
  {
   "attachments": {},
   "cell_type": "markdown",
   "metadata": {},
   "source": [
    "## Standard deviation\n",
    "You should now be familiar with the environmental dataset. However, until now you used a cleaned version of the dataset. The original dataset contained multiple outliers, which would have tainted the analysis.\n",
    "\n",
    "You'll now work on visualizing these outliers by using the method you've just learned."
   ]
  },
  {
   "cell_type": "code",
   "execution_count": null,
   "metadata": {},
   "outputs": [],
   "source": [
    "# Calculate mean\n",
    "data[\"mean\"] = data['temperature'].mean()\n",
    "data['std_temp'] = data['temperature'].std()\n",
    "\n",
    "# Calculate upper and lower limits\n",
    "data[\"upper_limit\"] = data['mean'] + (3 * data['std_temp'])\n",
    "data[\"lower_limit\"] = data['mean'] - (3 * data['std_temp'])\n",
    "\n",
    "# Plot the DataFrame\n",
    "data.plot()\n",
    "\n",
    "plt.show()"
   ]
  },
  {
   "attachments": {},
   "cell_type": "markdown",
   "metadata": {},
   "source": [
    "## Autocorrelation\n",
    "For this exercise, you'll be using the traffic dataset. I've combined the columns for heavy and light vehicles into one \"vehicle\" column, since we've seen before that the two behave as one.\n",
    "\n",
    "You'll first plot the data, and then visualize the autocorrelation, before answering some questions about the created plots.\n",
    "\n",
    "The data is available as traffic"
   ]
  },
  {
   "cell_type": "code",
   "execution_count": null,
   "metadata": {},
   "outputs": [],
   "source": [
    "# Plot traffic dataset\n",
    "traffic[:\"2018-11-10\"].plot()\n",
    "\n",
    "# Show plot\n",
    "plt.show()"
   ]
  },
  {
   "cell_type": "code",
   "execution_count": null,
   "metadata": {},
   "outputs": [],
   "source": [
    "# Plot traffic dataset\n",
    "traffic[:\"2018-11-10\"].plot()\n",
    "\n",
    "# Show plot\n",
    "plt.show()\n",
    "\n",
    "# Import tsaplots\n",
    "from statsmodels.graphics import tsaplots\n",
    "\n",
    "# Plot autocorrelation\n",
    "tsaplots.plot_acf(traffic['vehicles'], lags=50)\n",
    "\n",
    "\n",
    "# Show the plot\n",
    "plt.show()"
   ]
  },
  {
   "attachments": {},
   "cell_type": "markdown",
   "metadata": {},
   "source": [
    "## Seasonal decomposition\n",
    "In the last exercise, you identified some repetitive patterns in the traffic data with both visual inspection and using an autocorrelation plot.\n",
    "\n",
    "You'll now dissect this data further by splitting it into it's components.\n",
    "\n",
    "The data has been loaded for you into traffic."
   ]
  },
  {
   "cell_type": "code",
   "execution_count": null,
   "metadata": {},
   "outputs": [],
   "source": [
    "# Import modules\n",
    "import statsmodels.api as sm\n",
    "\n",
    "# Perform decompositon \n",
    "res = sm.tsa.seasonal_decompose(traffic['vehicles'])\n",
    "\n",
    "# Print the seasonal component\n",
    "print(res.seasonal.head())\n",
    "\n",
    "# Plot the result\n",
    "res.plot()\n",
    "\n",
    "# Show the plot\n",
    "plt.show()"
   ]
  },
  {
   "cell_type": "code",
   "execution_count": null,
   "metadata": {},
   "outputs": [],
   "source": [
    "# Resample DataFrame to 1h\n",
    "df_seas = df.resample('1h').max()\n",
    "\n",
    "# Run seasonal decompose\n",
    "decomp = sm.tsa.seasonal_decompose(df_seas)\n",
    "# Resample DataFrame to 1h\n",
    "df_seas = df.resample('1h').max()\n",
    "\n",
    "# Run seasonal decompose\n",
    "decomp = sm.tsa.seasonal_decompose(df_seas)\n",
    "\n",
    "# Plot the timeseries\n",
    "plt.title(\"Temperature\")\n",
    "plt.plot(df_seas['temperature'], label=\"temperature\")\n",
    "\n",
    "# Plot trend and seasonality\n",
    "plt.plot(decomp.trend, label=\"trend\")\n",
    "plt.plot(decomp.seasonal, label=\"seasonal\")\n",
    "plt.legend()\n",
    "plt.show()\n"
   ]
  }
 ],
 "metadata": {
  "language_info": {
   "name": "python"
  },
  "orig_nbformat": 4
 },
 "nbformat": 4,
 "nbformat_minor": 2
}
